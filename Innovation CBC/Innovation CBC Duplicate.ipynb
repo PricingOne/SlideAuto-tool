{
 "cells": [
  {
   "cell_type": "code",
   "execution_count": null,
   "metadata": {},
   "outputs": [],
   "source": [
    "f_path = 'C:\\\\Users\\\\Ali Salem\\\\Desktop\\\\App_Update\\\\static/files\\\\parameters.xlsx'\n",
    "innovation_cbc_path = 'C:\\\\Users\\\\Ali Salem\\\\Desktop\\\\App_Update\\\\Innovation CBC/Innovation CBC Datasets Test\\\\Costco Inno Extract.xlsx'\n",
    "slides_name = []"
   ]
  },
  {
   "cell_type": "code",
   "execution_count": null,
   "metadata": {},
   "outputs": [],
   "source": [
    "import os\n",
    "%run \"{os.path.dirname(os.getcwd())}\\general_functions\\generalFunctions.ipynb\" #container\n",
    "\n",
    "%run \"{os.getcwd()}\\Innovation CBC Replacement Function.ipynb\" #container"
   ]
  },
  {
   "cell_type": "markdown",
   "metadata": {},
   "source": [
    "### Parameters"
   ]
  },
  {
   "cell_type": "code",
   "execution_count": null,
   "metadata": {},
   "outputs": [],
   "source": [
    "filename = 'parameters.xlsx'\n",
    "\n",
    "# Get the current working directory\n",
    "current_dir = os.path.dirname(os.getcwd())\n",
    "\n",
    "# Construct the full path to the file\n",
    "f_path = os.path.join(current_dir, filename)\n",
    "print(f_path)\n",
    "#xls = pd.ExcelFile(f_path)\n",
    "parm = pd.read_excel(f_path, sheet_name='Innovation_CBC')\n",
    "fields = dict(zip(parm['Field'],parm['Value']))\n"
   ]
  },
  {
   "cell_type": "code",
   "execution_count": null,
   "metadata": {},
   "outputs": [],
   "source": [
    "filePath = fields['filePath']\n",
    "directory = r\"Innovation CBC Datasets Test\"\n",
    "filePath = os.path.join(directory, filePath) \n",
    "market = fields['market']\n",
    "sheet_name1 = fields['sheet_name1']\n",
    "sheet_name2 = fields['sheet_name2']\n",
    "unitorvolume = fields['unitorvolume']\n",
    "wdtext = fields['wdtext']\n",
    "client = fields['client']\n",
    "data_source = fields['data_source']\n",
    "unitorvolshare= 'New ' + unitorvolume + ' Share' #New Volume Share"
   ]
  },
  {
   "cell_type": "code",
   "execution_count": null,
   "metadata": {},
   "outputs": [],
   "source": [
    "# filePath = r\"Innovation CBC Datasets/Costco Inno Extract.xlsx\"\n",
    "# data_source = \"DATA SOURCE: Consumer Test | July 2025\"\n",
    "# market='Costco'\n",
    "# wdtext=\"WD assumption = 50 WD\"\n",
    "# unitorvolume= 'Unit'\n",
    "# unitorvolshare= 'New ' + unitorvolume + ' Share' #New Volume Share\n",
    "# client= 'Edgewell'"
   ]
  },
  {
   "cell_type": "markdown",
   "metadata": {},
   "source": [
    "### Reading Data in Excel"
   ]
  },
  {
   "cell_type": "code",
   "execution_count": 33,
   "metadata": {},
   "outputs": [],
   "source": [
    "performance = pd.read_excel(filePath,'Performance').rename(columns={'Unnamed: 2': 'Product', 'Unnamed: 3': 'ProductSize'})\n",
    "rank = pd.read_excel(filePath,'Ranking')\n",
    "sourcing = pd.read_excel(filePath,\"Sourcing\")\n",
    "fair = pd.read_excel(filePath,\"Fair\")\n",
    "merged = pd.merge(sourcing, fair, left_on=\"Rescaled share diff\", right_on=\"Fair Share\", how=\"inner\", suffixes=('', '_f'))\n"
   ]
  },
  {
   "cell_type": "markdown",
   "metadata": {},
   "source": [
    "### Data Cleaning"
   ]
  },
  {
   "cell_type": "code",
   "execution_count": 34,
   "metadata": {},
   "outputs": [],
   "source": [
    "numberOfSlides=performance.Grouping.value_counts().reset_index()\n",
    "numberOfSlides['Count']=numberOfSlides['count'].apply(lambda x : 1 if x<=5 else ((x//5) +( 0 if x%5 ==0 else 1)) )"
   ]
  },
  {
   "cell_type": "code",
   "execution_count": 35,
   "metadata": {},
   "outputs": [],
   "source": [
    "# Grouping the 'performance' DataFrame by the 'Grouping' column and getting unique 'Sheets names' for each group\n",
    "columnName = performance.groupby('Grouping')['Sheets names'].unique().reset_index()\n",
    "\n",
    "# Creating a dictionary where each key is a unique 'Grouping' value and each value is a DataFrame containing \n",
    "# 'New volume share' column and the columns listed in 'Sheets names' for that group\n",
    "dfDic = {columnName['Grouping'].iloc[i]: rank[[unitorvolshare] + list(columnName['Sheets names'].iloc[i])] for i in range(columnName.shape[0])}\n",
    "\n",
    "# Initializing an empty dictionary to store split DataFrames\n",
    "dfDicSplit = {}\n",
    "\n",
    "# Column name to be prioritized in the final DataFrames\n",
    "col = unitorvolshare\n",
    "\n",
    "# Iterating over each key-value pair in dfDic\n",
    "for key, value in dfDic.items():\n",
    "    # Checking if the number of columns (excluding 'New volume share') is greater than 5\n",
    "    if value.shape[1] - 1 > 5:\n",
    "        numOfColumns = 0\n",
    "        # Splitting the DataFrame into chunks of 5 columns if there are more than 5 columns\n",
    "        while numOfColumns < value.shape[1] - 1:\n",
    "            print('split number = ', numOfColumns)\n",
    "            # Creating a new DataFrame with the next set of 5 columns\n",
    "            dfDicSplit[key + '_Num ' + str(numOfColumns)] = value.iloc[:, numOfColumns + 1:numOfColumns + 6]\n",
    "            # Adding the 'New volume share' column to the new DataFrame\n",
    "            dfDicSplit[key + '_Num ' + str(numOfColumns)][col] = value[col]\n",
    "            # Reordering columns to place 'New volume share' at the front\n",
    "            columns_order = [col] + [cl for cl in dfDicSplit[key + '_Num ' + str(numOfColumns)].columns if cl != col]\n",
    "            dfDicSplit[key + '_Num ' + str(numOfColumns)] = dfDicSplit[key + '_Num ' + str(numOfColumns)].reindex(columns=columns_order)\n",
    "            numOfColumns += 5\n",
    "    else:\n",
    "        # If the number of columns (excluding 'New volume share') is 5 or fewer, add the DataFrame as is to dfDicSplit\n",
    "        dfDicSplit[key] = value\n",
    "        dfDicSplit[key][\"To color\"] = rank[\"To color\"]\n"
   ]
  },
  {
   "cell_type": "code",
   "execution_count": 36,
   "metadata": {},
   "outputs": [
    {
     "data": {
      "text/plain": [
       "{'Kirkland Dispo': 2,\n",
       " 'Kirkland Razor': 1,\n",
       " 'Schick Blade': 2,\n",
       " 'Schick Dispo': 5,\n",
       " 'Schick Razor': 4}"
      ]
     },
     "execution_count": 36,
     "metadata": {},
     "output_type": "execute_result"
    }
   ],
   "source": [
    "# Creating a dictionary to store the count of columns (excluding 'New volume share' and the 'Grouping' column)\n",
    "# for each DataFrame in dfDicSplit\n",
    "duplicationList={key:value.shape[1]-2 for key,value in dfDicSplit.items()}\n",
    "duplicationList"
   ]
  },
  {
   "cell_type": "code",
   "execution_count": 37,
   "metadata": {},
   "outputs": [],
   "source": [
    "# Grouping the 'performance' DataFrame by the 'Grouping' column and aggregating 'Sheets names' and 'Product' into lists\n",
    "grouped = performance.groupby('Grouping')[['Sheets names', 'Product']].agg(list)\n",
    "\n",
    "# Creating a dictionary where each key is a 'Grouping' value and each value is a dictionary \n",
    "# with 'Sheets names' as keys and 'Product' as values\n",
    "result = grouped.apply(lambda x: dict(zip(x['Sheets names'], x['Product'])), axis=1).to_dict()\n",
    "\n",
    "# Initializing an empty list to store the number of products minus one for each grouping\n",
    "sum_list = []\n",
    "\n",
    "# Iterating over each inner dictionary in the result dictionary\n",
    "for inner_dict in result.values():\n",
    "    # Calculating the number of products for the current grouping\n",
    "    inner_sum = len(inner_dict.values())\n",
    "    # Appending the number of products minus one to sum_list\n",
    "    sum_list.append(inner_sum - 1)\n"
   ]
  },
  {
   "cell_type": "markdown",
   "metadata": {},
   "source": [
    "### Duplication Stage"
   ]
  },
  {
   "cell_type": "code",
   "execution_count": 38,
   "metadata": {},
   "outputs": [],
   "source": [
    "startIndex=8\n",
    "index = [0,list(duplicationList.values()),7,[i+startIndex for i in sum_list]]\n",
    "duplication = [performance.Grouping.nunique(),1,performance.Grouping.nunique(),1]\n",
    "section_names = [\"Innovation Summary\",\"Innovation ranking\",\"Innovation potential\",\"Innovation sourcing\"]\n",
    "\n",
    "path = os.getcwd() + '//Inno CBC base Oct 2024.pptx'\n",
    "new_pre = os.getcwd() + '//slide duplicated.pptx'"
   ]
  },
  {
   "cell_type": "code",
   "execution_count": 39,
   "metadata": {},
   "outputs": [
    {
     "name": "stdout",
     "output_type": "stream",
     "text": [
      "4\n",
      "4\n",
      "4\n",
      "[0, [2, 1, 2, 5, 4], 7, [9, 8, 9, 12, 11]]\n",
      "[5, 1, 5, 1]\n",
      "['Innovation Summary', 'Innovation ranking', 'Innovation potential', 'Innovation sourcing']\n",
      "12\n"
     ]
    }
   ],
   "source": [
    "print(len(index))\n",
    "print(len(duplication))\n",
    "print(len(section_names))\n",
    "print(index)\n",
    "print(duplication)\n",
    "print(section_names)\n",
    "print(sum(duplication))\n"
   ]
  },
  {
   "cell_type": "code",
   "execution_count": null,
   "metadata": {},
   "outputs": [],
   "source": [
    "if len(slides_name) >0:\n",
    "    valid_sections = [(i, s) for i, s in enumerate(section_names) if s is not None]\n",
    "    indices = [i for i, s in valid_sections if any(sub.lower() == s.lower() for sub in slides_name)]\n",
    "    filtered_section_names = [section_names[i] for i in indices]\n",
    "    filtered_duplication = [duplication[i] for i in indices]\n",
    "    filtered_index = [index[i] for i in indices]\n",
    "    slideDuplication(filtered_index,filtered_duplication,filtered_section_names,path,new_pre)\n",
    "else:\n",
    "    slideDuplication(index,duplication,section_names,path,new_pre)"
   ]
  },
  {
   "cell_type": "code",
   "execution_count": null,
   "metadata": {},
   "outputs": [],
   "source": [
    "# ## Shouldn't be hased in the first run\n",
    "# slideDuplication(index,duplication,section_names,path,new_pre)"
   ]
  },
  {
   "cell_type": "code",
   "execution_count": 41,
   "metadata": {},
   "outputs": [],
   "source": [
    "prs = Presentation(new_pre)"
   ]
  },
  {
   "cell_type": "code",
   "execution_count": 42,
   "metadata": {},
   "outputs": [],
   "source": [
    "def calculate_position(end):\n",
    "    return sum(duplication[i] * (1 if isinstance(index[i], int) else len(index[i])) for i in range(end))"
   ]
  },
  {
   "cell_type": "markdown",
   "metadata": {},
   "source": [
    "### Summary"
   ]
  },
  {
   "cell_type": "markdown",
   "metadata": {},
   "source": [
    "### Innovation Summary (Slide 1)"
   ]
  },
  {
   "cell_type": "code",
   "execution_count": null,
   "metadata": {},
   "outputs": [],
   "source": [
    "p=0\n",
    "try:\n",
    "    if 0 in filtered_index:\n",
    "        dup_list = filtered_duplication\n",
    "        run_slide = True\n",
    "    else:\n",
    "        run_slide = False\n",
    "except NameError:\n",
    "    dup_list = duplication\n",
    "    run_slide = True \n",
    "\n",
    "if run_slide:\n",
    "    numOfDuplicatesSummarySlide = len(list(duplicationList.values()))*dup_list[0]\n",
    "    Innovation_Summary(prs, performance,grouped, numOfDuplicates=numOfDuplicatesSummarySlide, position=calculate_position(p))\n",
    "    p+=1"
   ]
  },
  {
   "cell_type": "markdown",
   "metadata": {},
   "source": [
    "### Innovation Ranking (Slide 2)"
   ]
  },
  {
   "cell_type": "code",
   "execution_count": null,
   "metadata": {},
   "outputs": [
    {
     "name": "stdout",
     "output_type": "stream",
     "text": [
      "Kirkland Dispo\n",
      "Kirkland Razor\n",
      "Schick Blade\n",
      "Schick Dispo\n",
      "Schick Razor\n"
     ]
    }
   ],
   "source": [
    "targets = [1,2,3,4,5,6]\n",
    "try:\n",
    "    for x in filtered_index:\n",
    "        if isinstance(x, list):  \n",
    "            if any(y in targets for y in x):\n",
    "                dup_list = filtered_duplication\n",
    "                run_slide = True\n",
    "            else:\n",
    "                run_slide = False\n",
    "except NameError:\n",
    "    dup_list = duplication\n",
    "    run_slide = True \n",
    "\n",
    "if run_slide:\n",
    "    numOfDuplicatesFirstSlide = len(list(duplicationList.values())) * dup_list[1]\n",
    "    innovationRanking(prs,dfDicSplit,performance,unitorvolshare,client,numOfDuplicates=numOfDuplicatesFirstSlide,position=calculate_position(p))\n",
    "    p+=1"
   ]
  },
  {
   "cell_type": "markdown",
   "metadata": {},
   "source": [
    "### Innovation Potential (Slide 3)"
   ]
  },
  {
   "cell_type": "code",
   "execution_count": null,
   "metadata": {},
   "outputs": [],
   "source": [
    "try:\n",
    "    if 7 in filtered_index:\n",
    "        dup_list = filtered_duplication\n",
    "        run_slide = True\n",
    "    else:\n",
    "        run_slide = False\n",
    "except NameError:\n",
    "    dup_list = duplication\n",
    "    run_slide = True \n",
    "\n",
    "if run_slide:\n",
    "    innovationPotential(prs,performance, wdtext,unitorvolume,numOfDuplicates = dup_list[p],position=calculate_position(p))\n",
    "    p+=1"
   ]
  },
  {
   "cell_type": "markdown",
   "metadata": {},
   "source": [
    "### Innovation Sourcing (Slide 4)"
   ]
  },
  {
   "cell_type": "code",
   "execution_count": null,
   "metadata": {},
   "outputs": [],
   "source": [
    "targets = [8,9,10,11,12,13]\n",
    "try:\n",
    "    for x in filtered_index:\n",
    "        if isinstance(x, list):  \n",
    "            if any(y in targets for y in x):\n",
    "                dup_list = filtered_duplication\n",
    "                run_slide = True\n",
    "            else:\n",
    "                run_slide = False\n",
    "except NameError:\n",
    "    dup_list = duplication\n",
    "    run_slide = True \n",
    "\n",
    "if run_slide:\n",
    "    numOfDuplicatesThirdSlide = len(list(sum_list)) * dup_list[2]\n",
    "    innovationSourcing(prs,performance, merged,result, sum_list, numOfDuplicates = numOfDuplicatesThirdSlide, position=calculate_position(p))"
   ]
  },
  {
   "cell_type": "code",
   "execution_count": 47,
   "metadata": {},
   "outputs": [],
   "source": [
    "from datetime import date\n",
    "today = str(date.today())\n",
    "outputPath=os.getcwd() + \"\\\\Innovation CBC \"+market+\" output \"+today+\".pptx\"\n",
    "prs.save(outputPath)\n",
    "app = win32.Dispatch(\"PowerPoint.Application\")\n",
    "presentation = app.Presentations.Open(outputPath)"
   ]
  },
  {
   "cell_type": "code",
   "execution_count": 48,
   "metadata": {},
   "outputs": [
    {
     "name": "stdout",
     "output_type": "stream",
     "text": [
      "Slide counts - Summary: 5, Ranking: 5, Potential: 5, Sourcing: 5\n",
      "New slide order (1-based): [1, 6, 11, 16, 2, 7, 12, 17, 3, 8, 13, 18, 4, 9, 14, 19, 5, 10, 15, 20]\n",
      "Reordered 20 slides successfully\n",
      "Removing 4 sections...\n",
      "All sections removed.\n",
      "0\n",
      "Kirkland Dispo\n",
      "1\n",
      "Kirkland Razor\n",
      "2\n",
      "Schick Blade\n",
      "3\n",
      "Schick Dispo\n",
      "4\n",
      "Schick Razor\n",
      "Reordered presentation saved as: c:\\Users\\SophieZIMMERMANN\\Documents\\Slide-Automate\\Innovation CBC Slide Duplicate\\Innovation CBC Costco reordered output 2025-08-19.pptx\n",
      "Slide reordering complete! All formatting preserved.\n"
     ]
    }
   ],
   "source": [
    "summary_slide_count = max(duplication)\n",
    "ranking_slide_count = max(duplication)\n",
    "potential_slide_count = max(duplication) \n",
    "sourcing_slide_count = max(duplication)\n",
    "\n",
    "print(f\"Slide counts - Summary: {summary_slide_count}, Ranking: {ranking_slide_count}, Potential: {potential_slide_count}, Sourcing: {sourcing_slide_count}\")\n",
    "\n",
    "\n",
    "app = win32.Dispatch(\"PowerPoint.Application\")\n",
    "presentation = app.Presentations.Open(outputPath)\n",
    "\n",
    "new_order = []\n",
    "max_slides_per_section = max(summary_slide_count,ranking_slide_count, potential_slide_count, sourcing_slide_count)\n",
    "for round_num in range(max_slides_per_section):\n",
    "    if round_num < summary_slide_count:\n",
    "        summary_slide_index =  round_num +1\n",
    "        new_order.append(summary_slide_index)\n",
    "    if round_num < ranking_slide_count:\n",
    "        ranking_slide_index = round_num +1  + summary_slide_count \n",
    "        new_order.append(ranking_slide_index)\n",
    "        \n",
    "    if round_num < potential_slide_count:\n",
    "        potential_slide_index = ranking_slide_count + summary_slide_count + round_num  +1\n",
    "        new_order.append(potential_slide_index)\n",
    "        \n",
    "    if round_num < sourcing_slide_count:\n",
    "        sourcing_slide_index = ranking_slide_count + potential_slide_count + summary_slide_count + round_num +1\n",
    "        new_order.append(sourcing_slide_index)\n",
    "\n",
    "print(f\"New slide order (1-based): {new_order}\")\n",
    "def reorder_slides_in_place(presentation, new_order):\n",
    "    total_slides = presentation.Slides.Count\n",
    "    \n",
    "    slides_temp = []\n",
    "    \n",
    "    for slide_index in new_order:\n",
    "        if slide_index <= total_slides:\n",
    "            original_slide = presentation.Slides(slide_index)\n",
    "            original_slide.Copy()\n",
    "            time.sleep(0.5) \n",
    "            new_slide = presentation.Slides.Paste(presentation.Slides.Count + 1)\n",
    "            slides_temp.append(new_slide)\n",
    "    \n",
    "    for i in range(total_slides, 0, -1):\n",
    "        presentation.Slides(i).Delete()\n",
    "    \n",
    "    print(f\"Reordered {len(slides_temp)} slides successfully\")\n",
    "    return presentation\n",
    "\n",
    "# Reorder the slides\n",
    "presentation = reorder_slides_in_place(presentation, new_order)\n",
    "\n",
    "reordered_outputPath = os.getcwd() + \"\\\\Innovation CBC \"+market+\" reordered output \"+today+\".pptx\"\n",
    "def remove_all_sections(presentation):\n",
    "    try:\n",
    "        section_count = presentation.SectionProperties.Count\n",
    "        print(f\"Removing {section_count} sections...\")\n",
    "        for i in range(section_count, 0, -1):\n",
    "            presentation.SectionProperties.Delete(i, False)  # False = keep slides\n",
    "        print(\"All sections removed.\")\n",
    "        return presentation\n",
    "    except Exception as e:\n",
    "        print(f\"Error removing sections: {e}\")\n",
    "\n",
    "presentation = remove_all_sections(presentation)\n",
    "\n",
    "# Add Section names\n",
    "for i, key in enumerate(dfDicSplit):\n",
    "    print(i)\n",
    "    print(key)\n",
    "    presentation.SectionProperties.AddBeforeSlide(i*4+1,key)\n",
    "\n",
    "presentation.SaveAs(reordered_outputPath)\n",
    "\n",
    "\n",
    "print(f\"Reordered presentation saved as: {reordered_outputPath}\")\n",
    "print(\"Slide reordering complete! All formatting preserved.\")"
   ]
  },
  {
   "cell_type": "code",
   "execution_count": null,
   "metadata": {},
   "outputs": [],
   "source": []
  }
 ],
 "metadata": {
  "kernelspec": {
   "display_name": "Python 3",
   "language": "python",
   "name": "python3"
  },
  "language_info": {
   "codemirror_mode": {
    "name": "ipython",
    "version": 3
   },
   "file_extension": ".py",
   "mimetype": "text/x-python",
   "name": "python",
   "nbconvert_exporter": "python",
   "pygments_lexer": "ipython3",
   "version": "3.13.1"
  }
 },
 "nbformat": 4,
 "nbformat_minor": 2
}
