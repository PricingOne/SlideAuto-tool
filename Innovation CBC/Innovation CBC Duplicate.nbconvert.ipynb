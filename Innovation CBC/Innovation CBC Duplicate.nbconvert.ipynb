{
 "cells": [
  {
   "cell_type": "code",
   "execution_count": 1,
   "metadata": {
    "execution": {
     "iopub.execute_input": "2025-09-10T12:50:08.389025Z",
     "iopub.status.busy": "2025-09-10T12:50:08.388513Z",
     "iopub.status.idle": "2025-09-10T12:50:08.401070Z",
     "shell.execute_reply": "2025-09-10T12:50:08.399476Z"
    }
   },
   "outputs": [],
   "source": [
    "f_path = 'C:\\\\Users\\\\Ali Salem\\\\Desktop\\\\SlideAuto-tool\\\\static/files\\\\parameters.xlsx'\n",
    "innovation_cbc_path = 'C:\\\\Users\\\\Ali Salem\\\\Desktop\\\\SlideAuto-tool\\\\Innovation CBC/Innovation CBC Datasets Test\\\\Costco Inno Extract.xlsx'\n",
    "slides_name = []"
   ]
  },
  {
   "cell_type": "code",
   "execution_count": 2,
   "metadata": {
    "execution": {
     "iopub.execute_input": "2025-09-10T12:50:08.409477Z",
     "iopub.status.busy": "2025-09-10T12:50:08.408569Z",
     "iopub.status.idle": "2025-09-10T12:50:11.349015Z",
     "shell.execute_reply": "2025-09-10T12:50:11.346698Z"
    }
   },
   "outputs": [],
   "source": [
    "import os\n",
    "%run \"{os.path.dirname(os.getcwd())}\\general_functions\\generalFunctions.ipynb\" #container\n",
    "\n",
    "%run \"{os.getcwd()}\\Innovation CBC Replacement Function.ipynb\" #container"
   ]
  },
  {
   "cell_type": "markdown",
   "metadata": {},
   "source": [
    "### Parameters"
   ]
  },
  {
   "cell_type": "code",
   "execution_count": 3,
   "metadata": {
    "execution": {
     "iopub.execute_input": "2025-09-10T12:50:11.356072Z",
     "iopub.status.busy": "2025-09-10T12:50:11.354988Z",
     "iopub.status.idle": "2025-09-10T12:50:12.240536Z",
     "shell.execute_reply": "2025-09-10T12:50:12.238637Z"
    }
   },
   "outputs": [
    {
     "name": "stdout",
     "output_type": "stream",
     "text": [
      "C:\\Users\\Ali Salem\\Desktop\\SlideAuto-tool\\parameters.xlsx\n"
     ]
    }
   ],
   "source": [
    "filename = 'parameters.xlsx'\n",
    "\n",
    "# Get the current working directory\n",
    "current_dir = os.path.dirname(os.getcwd())\n",
    "\n",
    "# Construct the full path to the file\n",
    "f_path = os.path.join(current_dir, filename)\n",
    "print(f_path)\n",
    "#xls = pd.ExcelFile(f_path)\n",
    "parm = pd.read_excel(f_path, sheet_name='Innovation_CBC')\n",
    "fields = dict(zip(parm['Field'],parm['Value']))\n"
   ]
  },
  {
   "cell_type": "code",
   "execution_count": 4,
   "metadata": {
    "execution": {
     "iopub.execute_input": "2025-09-10T12:50:12.248116Z",
     "iopub.status.busy": "2025-09-10T12:50:12.246682Z",
     "iopub.status.idle": "2025-09-10T12:50:12.256935Z",
     "shell.execute_reply": "2025-09-10T12:50:12.255333Z"
    }
   },
   "outputs": [],
   "source": [
    "filePath = fields['filePath']\n",
    "directory = r\"Innovation CBC Datasets Test\"\n",
    "filePath = os.path.join(directory, filePath) \n",
    "market = fields['market']\n",
    "sheet_name1 = fields['sheet_name1']\n",
    "sheet_name2 = fields['sheet_name2']\n",
    "unitorvolume = fields['unitorvolume']\n",
    "wdtext = fields['wdtext']\n",
    "client = fields['client']\n",
    "data_source = fields['data_source']\n",
    "unitorvolshare= 'New ' + unitorvolume + ' Share' #New Volume Share"
   ]
  },
  {
   "cell_type": "code",
   "execution_count": 5,
   "metadata": {
    "execution": {
     "iopub.execute_input": "2025-09-10T12:50:12.261244Z",
     "iopub.status.busy": "2025-09-10T12:50:12.260917Z",
     "iopub.status.idle": "2025-09-10T12:50:12.268599Z",
     "shell.execute_reply": "2025-09-10T12:50:12.266929Z"
    }
   },
   "outputs": [],
   "source": [
    "# filePath = r\"Innovation CBC Datasets/Costco Inno Extract.xlsx\"\n",
    "# data_source = \"DATA SOURCE: Consumer Test | July 2025\"\n",
    "# market='Costco'\n",
    "# wdtext=\"WD assumption = 50 WD\"\n",
    "# unitorvolume= 'Unit'\n",
    "# unitorvolshare= 'New ' + unitorvolume + ' Share' #New Volume Share\n",
    "# client= 'Edgewell'"
   ]
  },
  {
   "cell_type": "markdown",
   "metadata": {},
   "source": [
    "### Reading Data in Excel"
   ]
  },
  {
   "cell_type": "code",
   "execution_count": 6,
   "metadata": {
    "execution": {
     "iopub.execute_input": "2025-09-10T12:50:12.273329Z",
     "iopub.status.busy": "2025-09-10T12:50:12.272537Z",
     "iopub.status.idle": "2025-09-10T12:50:12.522808Z",
     "shell.execute_reply": "2025-09-10T12:50:12.520906Z"
    }
   },
   "outputs": [],
   "source": [
    "performance = pd.read_excel(filePath,'Performance').rename(columns={'Unnamed: 2': 'Product', 'Unnamed: 3': 'ProductSize'})\n",
    "rank = pd.read_excel(filePath,'Ranking')\n",
    "sourcing = pd.read_excel(filePath,\"Sourcing\")\n",
    "fair = pd.read_excel(filePath,\"Fair\")\n",
    "merged = pd.merge(sourcing, fair, left_on=\"Rescaled share diff\", right_on=\"Fair Share\", how=\"inner\", suffixes=('', '_f'))\n"
   ]
  },
  {
   "cell_type": "markdown",
   "metadata": {},
   "source": [
    "### Data Cleaning"
   ]
  },
  {
   "cell_type": "code",
   "execution_count": 7,
   "metadata": {
    "execution": {
     "iopub.execute_input": "2025-09-10T12:50:12.527332Z",
     "iopub.status.busy": "2025-09-10T12:50:12.526991Z",
     "iopub.status.idle": "2025-09-10T12:50:12.536555Z",
     "shell.execute_reply": "2025-09-10T12:50:12.535537Z"
    }
   },
   "outputs": [],
   "source": [
    "numberOfSlides=performance.Grouping.value_counts().reset_index()\n",
    "numberOfSlides['Count']=numberOfSlides['count'].apply(lambda x : 1 if x<=5 else ((x//5) +( 0 if x%5 ==0 else 1)) )"
   ]
  },
  {
   "cell_type": "code",
   "execution_count": 8,
   "metadata": {
    "execution": {
     "iopub.execute_input": "2025-09-10T12:50:12.542919Z",
     "iopub.status.busy": "2025-09-10T12:50:12.541038Z",
     "iopub.status.idle": "2025-09-10T12:50:12.574299Z",
     "shell.execute_reply": "2025-09-10T12:50:12.572630Z"
    }
   },
   "outputs": [],
   "source": [
    "# Grouping the 'performance' DataFrame by the 'Grouping' column and getting unique 'Sheets names' for each group\n",
    "columnName = performance.groupby('Grouping')['Sheets names'].unique().reset_index()\n",
    "\n",
    "# Creating a dictionary where each key is a unique 'Grouping' value and each value is a DataFrame containing \n",
    "# 'New volume share' column and the columns listed in 'Sheets names' for that group\n",
    "dfDic = {columnName['Grouping'].iloc[i]: rank[[unitorvolshare] + list(columnName['Sheets names'].iloc[i])] for i in range(columnName.shape[0])}\n",
    "\n",
    "# Initializing an empty dictionary to store split DataFrames\n",
    "dfDicSplit = {}\n",
    "\n",
    "# Column name to be prioritized in the final DataFrames\n",
    "col = unitorvolshare\n",
    "\n",
    "# Iterating over each key-value pair in dfDic\n",
    "for key, value in dfDic.items():\n",
    "    # Checking if the number of columns (excluding 'New volume share') is greater than 5\n",
    "    if value.shape[1] - 1 > 5:\n",
    "        numOfColumns = 0\n",
    "        # Splitting the DataFrame into chunks of 5 columns if there are more than 5 columns\n",
    "        while numOfColumns < value.shape[1] - 1:\n",
    "            print('split number = ', numOfColumns)\n",
    "            # Creating a new DataFrame with the next set of 5 columns\n",
    "            dfDicSplit[key + '_Num ' + str(numOfColumns)] = value.iloc[:, numOfColumns + 1:numOfColumns + 6]\n",
    "            # Adding the 'New volume share' column to the new DataFrame\n",
    "            dfDicSplit[key + '_Num ' + str(numOfColumns)][col] = value[col]\n",
    "            # Reordering columns to place 'New volume share' at the front\n",
    "            columns_order = [col] + [cl for cl in dfDicSplit[key + '_Num ' + str(numOfColumns)].columns if cl != col]\n",
    "            dfDicSplit[key + '_Num ' + str(numOfColumns)] = dfDicSplit[key + '_Num ' + str(numOfColumns)].reindex(columns=columns_order)\n",
    "            numOfColumns += 5\n",
    "    else:\n",
    "        # If the number of columns (excluding 'New volume share') is 5 or fewer, add the DataFrame as is to dfDicSplit\n",
    "        dfDicSplit[key] = value\n",
    "        dfDicSplit[key][\"To color\"] = rank[\"To color\"]\n"
   ]
  },
  {
   "cell_type": "code",
   "execution_count": 9,
   "metadata": {
    "execution": {
     "iopub.execute_input": "2025-09-10T12:50:12.577876Z",
     "iopub.status.busy": "2025-09-10T12:50:12.577327Z",
     "iopub.status.idle": "2025-09-10T12:50:12.592626Z",
     "shell.execute_reply": "2025-09-10T12:50:12.591603Z"
    }
   },
   "outputs": [
    {
     "data": {
      "text/plain": [
       "{'Kirkland Dispo': 2,\n",
       " 'Kirkland Razor': 1,\n",
       " 'Schick Blade': 2,\n",
       " 'Schick Dispo': 5,\n",
       " 'Schick Razor': 4}"
      ]
     },
     "execution_count": 9,
     "metadata": {},
     "output_type": "execute_result"
    }
   ],
   "source": [
    "# Creating a dictionary to store the count of columns (excluding 'New volume share' and the 'Grouping' column)\n",
    "# for each DataFrame in dfDicSplit\n",
    "duplicationList={key:value.shape[1]-2 for key,value in dfDicSplit.items()}\n",
    "duplicationList"
   ]
  },
  {
   "cell_type": "code",
   "execution_count": 10,
   "metadata": {
    "execution": {
     "iopub.execute_input": "2025-09-10T12:50:12.602045Z",
     "iopub.status.busy": "2025-09-10T12:50:12.600814Z",
     "iopub.status.idle": "2025-09-10T12:50:12.626196Z",
     "shell.execute_reply": "2025-09-10T12:50:12.624808Z"
    }
   },
   "outputs": [],
   "source": [
    "# Grouping the 'performance' DataFrame by the 'Grouping' column and aggregating 'Sheets names' and 'Product' into lists\n",
    "grouped = performance.groupby('Grouping')[['Sheets names', 'Product']].agg(list)\n",
    "\n",
    "# Creating a dictionary where each key is a 'Grouping' value and each value is a dictionary \n",
    "# with 'Sheets names' as keys and 'Product' as values\n",
    "result = grouped.apply(lambda x: dict(zip(x['Sheets names'], x['Product'])), axis=1).to_dict()\n",
    "\n",
    "# Initializing an empty list to store the number of products minus one for each grouping\n",
    "sum_list = []\n",
    "\n",
    "# Iterating over each inner dictionary in the result dictionary\n",
    "for inner_dict in result.values():\n",
    "    # Calculating the number of products for the current grouping\n",
    "    inner_sum = len(inner_dict.values())\n",
    "    # Appending the number of products minus one to sum_list\n",
    "    sum_list.append(inner_sum - 1)\n"
   ]
  },
  {
   "cell_type": "markdown",
   "metadata": {},
   "source": [
    "### Duplication Stage"
   ]
  },
  {
   "cell_type": "code",
   "execution_count": 11,
   "metadata": {
    "execution": {
     "iopub.execute_input": "2025-09-10T12:50:12.629690Z",
     "iopub.status.busy": "2025-09-10T12:50:12.629422Z",
     "iopub.status.idle": "2025-09-10T12:50:12.637373Z",
     "shell.execute_reply": "2025-09-10T12:50:12.636046Z"
    }
   },
   "outputs": [],
   "source": [
    "startIndex=8\n",
    "index = [0,list(duplicationList.values()),7,[i+startIndex for i in sum_list]]\n",
    "duplication = [performance.Grouping.nunique(),1,performance.Grouping.nunique(),1]\n",
    "section_names = [\"Innovation Summary\",\"Innovation ranking\",\"Innovation potential\",\"Innovation sourcing\"]\n",
    "\n",
    "path = os.getcwd() + '//Inno CBC base Oct 2024.pptx'\n",
    "new_pre = os.getcwd() + '//slide duplicated.pptx'"
   ]
  },
  {
   "cell_type": "code",
   "execution_count": 12,
   "metadata": {
    "execution": {
     "iopub.execute_input": "2025-09-10T12:50:12.640703Z",
     "iopub.status.busy": "2025-09-10T12:50:12.640475Z",
     "iopub.status.idle": "2025-09-10T12:50:12.649876Z",
     "shell.execute_reply": "2025-09-10T12:50:12.648276Z"
    }
   },
   "outputs": [
    {
     "name": "stdout",
     "output_type": "stream",
     "text": [
      "4\n",
      "4\n",
      "4\n",
      "[0, [2, 1, 2, 5, 4], 7, [9, 8, 9, 12, 11]]\n",
      "[5, 1, 5, 1]\n",
      "['Innovation Summary', 'Innovation ranking', 'Innovation potential', 'Innovation sourcing']\n",
      "12\n"
     ]
    }
   ],
   "source": [
    "print(len(index))\n",
    "print(len(duplication))\n",
    "print(len(section_names))\n",
    "print(index)\n",
    "print(duplication)\n",
    "print(section_names)\n",
    "print(sum(duplication))\n"
   ]
  },
  {
   "cell_type": "code",
   "execution_count": 13,
   "metadata": {
    "execution": {
     "iopub.execute_input": "2025-09-10T12:50:12.652768Z",
     "iopub.status.busy": "2025-09-10T12:50:12.652529Z",
     "iopub.status.idle": "2025-09-10T12:50:23.911359Z",
     "shell.execute_reply": "2025-09-10T12:50:23.908001Z"
    }
   },
   "outputs": [],
   "source": [
    "if len(slides_name) >0:\n",
    "    valid_sections = [(i, s) for i, s in enumerate(section_names) if s is not None]\n",
    "    indices = [i for i, s in valid_sections if any(sub.lower() == s.lower() for sub in slides_name)]\n",
    "    filtered_section_names = [section_names[i] for i in indices]\n",
    "    filtered_duplication = [duplication[i] for i in indices]\n",
    "    filtered_index = [index[i] for i in indices]\n",
    "    slideDuplication(filtered_index,filtered_duplication,filtered_section_names,path,new_pre)\n",
    "else:\n",
    "    slideDuplication(index,duplication,section_names,path,new_pre)"
   ]
  },
  {
   "cell_type": "code",
   "execution_count": 14,
   "metadata": {
    "execution": {
     "iopub.execute_input": "2025-09-10T12:50:23.918574Z",
     "iopub.status.busy": "2025-09-10T12:50:23.916955Z",
     "iopub.status.idle": "2025-09-10T12:50:23.927028Z",
     "shell.execute_reply": "2025-09-10T12:50:23.924131Z"
    }
   },
   "outputs": [],
   "source": [
    "# ## Shouldn't be hased in the first run\n",
    "# slideDuplication(index,duplication,section_names,path,new_pre)"
   ]
  },
  {
   "cell_type": "code",
   "execution_count": 15,
   "metadata": {
    "execution": {
     "iopub.execute_input": "2025-09-10T12:50:23.939418Z",
     "iopub.status.busy": "2025-09-10T12:50:23.936565Z",
     "iopub.status.idle": "2025-09-10T12:50:24.417500Z",
     "shell.execute_reply": "2025-09-10T12:50:24.415968Z"
    }
   },
   "outputs": [],
   "source": [
    "prs = Presentation(new_pre)"
   ]
  },
  {
   "cell_type": "code",
   "execution_count": 16,
   "metadata": {
    "execution": {
     "iopub.execute_input": "2025-09-10T12:50:24.421983Z",
     "iopub.status.busy": "2025-09-10T12:50:24.421162Z",
     "iopub.status.idle": "2025-09-10T12:50:24.429511Z",
     "shell.execute_reply": "2025-09-10T12:50:24.428201Z"
    }
   },
   "outputs": [],
   "source": [
    "def calculate_position(end):\n",
    "    return sum(duplication[i] * (1 if isinstance(index[i], int) else len(index[i])) for i in range(end))"
   ]
  },
  {
   "cell_type": "markdown",
   "metadata": {},
   "source": [
    "### Summary"
   ]
  },
  {
   "cell_type": "markdown",
   "metadata": {},
   "source": [
    "### Innovation Summary (Slide 1)"
   ]
  },
  {
   "cell_type": "code",
   "execution_count": 17,
   "metadata": {
    "execution": {
     "iopub.execute_input": "2025-09-10T12:50:24.435083Z",
     "iopub.status.busy": "2025-09-10T12:50:24.433624Z",
     "iopub.status.idle": "2025-09-10T12:50:24.785580Z",
     "shell.execute_reply": "2025-09-10T12:50:24.783094Z"
    }
   },
   "outputs": [],
   "source": [
    "p=0\n",
    "try:\n",
    "    if 0 in filtered_index:\n",
    "        dup_list = filtered_duplication\n",
    "        run_slide = True\n",
    "    else:\n",
    "        run_slide = False\n",
    "except NameError:\n",
    "    dup_list = duplication\n",
    "    run_slide = True \n",
    "\n",
    "if run_slide:\n",
    "    numOfDuplicatesSummarySlide = len(list(duplicationList.values()))*dup_list[0]\n",
    "    Innovation_Summary(prs, performance,grouped, numOfDuplicates=numOfDuplicatesSummarySlide, position=calculate_position(p))\n",
    "    p+=1"
   ]
  },
  {
   "cell_type": "markdown",
   "metadata": {},
   "source": [
    "### Innovation Ranking (Slide 2)"
   ]
  },
  {
   "cell_type": "code",
   "execution_count": 18,
   "metadata": {
    "execution": {
     "iopub.execute_input": "2025-09-10T12:50:24.793028Z",
     "iopub.status.busy": "2025-09-10T12:50:24.792294Z",
     "iopub.status.idle": "2025-09-10T12:50:25.234373Z",
     "shell.execute_reply": "2025-09-10T12:50:25.232682Z"
    }
   },
   "outputs": [
    {
     "name": "stdout",
     "output_type": "stream",
     "text": [
      "Kirkland Dispo\n",
      "Kirkland Razor\n",
      "Schick Blade\n",
      "Schick Dispo\n"
     ]
    },
    {
     "name": "stdout",
     "output_type": "stream",
     "text": [
      "Schick Razor\n"
     ]
    }
   ],
   "source": [
    "targets = [1,2,3,4,5,6]\n",
    "try:\n",
    "    for x in filtered_index:\n",
    "        if isinstance(x, list):  \n",
    "            if any(y in targets for y in x):\n",
    "                dup_list = filtered_duplication\n",
    "                run_slide = True\n",
    "            else:\n",
    "                run_slide = False\n",
    "except NameError:\n",
    "    dup_list = duplication\n",
    "    run_slide = True \n",
    "\n",
    "if run_slide:\n",
    "    numOfDuplicatesFirstSlide = len(list(duplicationList.values())) * dup_list[1]\n",
    "    innovationRanking(prs,dfDicSplit,performance,unitorvolshare,client,numOfDuplicates=numOfDuplicatesFirstSlide,position=calculate_position(p))\n",
    "    p+=1"
   ]
  },
  {
   "cell_type": "markdown",
   "metadata": {},
   "source": [
    "### Innovation Potential (Slide 3)"
   ]
  },
  {
   "cell_type": "code",
   "execution_count": 19,
   "metadata": {
    "execution": {
     "iopub.execute_input": "2025-09-10T12:50:25.241373Z",
     "iopub.status.busy": "2025-09-10T12:50:25.241024Z",
     "iopub.status.idle": "2025-09-10T12:50:25.590949Z",
     "shell.execute_reply": "2025-09-10T12:50:25.586474Z"
    }
   },
   "outputs": [],
   "source": [
    "try:\n",
    "    if 7 in filtered_index:\n",
    "        dup_list = filtered_duplication\n",
    "        run_slide = True\n",
    "    else:\n",
    "        run_slide = False\n",
    "except NameError:\n",
    "    dup_list = duplication\n",
    "    run_slide = True \n",
    "\n",
    "if run_slide:\n",
    "    innovationPotential(prs,performance, wdtext,unitorvolume,numOfDuplicates = dup_list[p],position=calculate_position(p))\n",
    "    p+=1"
   ]
  },
  {
   "cell_type": "markdown",
   "metadata": {},
   "source": [
    "### Innovation Sourcing (Slide 4)"
   ]
  },
  {
   "cell_type": "code",
   "execution_count": 20,
   "metadata": {
    "execution": {
     "iopub.execute_input": "2025-09-10T12:50:25.599967Z",
     "iopub.status.busy": "2025-09-10T12:50:25.599660Z",
     "iopub.status.idle": "2025-09-10T12:50:26.446356Z",
     "shell.execute_reply": "2025-09-10T12:50:26.444213Z"
    }
   },
   "outputs": [],
   "source": [
    "targets = [8,9,10,11,12,13]\n",
    "try:\n",
    "    for x in filtered_index:\n",
    "        if isinstance(x, list):  \n",
    "            if any(y in targets for y in x):\n",
    "                dup_list = filtered_duplication\n",
    "                run_slide = True\n",
    "            else:\n",
    "                run_slide = False\n",
    "except NameError:\n",
    "    dup_list = duplication\n",
    "    run_slide = True \n",
    "\n",
    "if run_slide:\n",
    "    numOfDuplicatesThirdSlide = len(list(sum_list)) * dup_list[2]\n",
    "    innovationSourcing(prs,performance, merged,result, sum_list, numOfDuplicates = numOfDuplicatesThirdSlide, position=calculate_position(p))"
   ]
  },
  {
   "cell_type": "code",
   "execution_count": 21,
   "metadata": {
    "execution": {
     "iopub.execute_input": "2025-09-10T12:50:26.460704Z",
     "iopub.status.busy": "2025-09-10T12:50:26.458831Z",
     "iopub.status.idle": "2025-09-10T12:50:36.223067Z",
     "shell.execute_reply": "2025-09-10T12:50:36.218122Z"
    }
   },
   "outputs": [],
   "source": [
    "from datetime import date\n",
    "today = str(date.today())\n",
    "outputPath=os.getcwd() + \"\\\\Innovation CBC \"+market+\" output \"+today+\".pptx\"\n",
    "prs.save(outputPath)\n",
    "app = win32.Dispatch(\"PowerPoint.Application\")\n",
    "presentation = app.Presentations.Open(outputPath)"
   ]
  },
  {
   "cell_type": "code",
   "execution_count": 22,
   "metadata": {
    "execution": {
     "iopub.execute_input": "2025-09-10T12:50:36.236811Z",
     "iopub.status.busy": "2025-09-10T12:50:36.234482Z",
     "iopub.status.idle": "2025-09-10T12:51:00.089581Z",
     "shell.execute_reply": "2025-09-10T12:51:00.087140Z"
    }
   },
   "outputs": [
    {
     "name": "stdout",
     "output_type": "stream",
     "text": [
      "Slide counts - Summary: 5, Ranking: 5, Potential: 5, Sourcing: 5\n"
     ]
    },
    {
     "name": "stdout",
     "output_type": "stream",
     "text": [
      "New slide order (1-based): [1, 6, 11, 16, 2, 7, 12, 17, 3, 8, 13, 18, 4, 9, 14, 19, 5, 10, 15, 20]\n"
     ]
    },
    {
     "name": "stdout",
     "output_type": "stream",
     "text": [
      "Reordered 20 slides successfully\n",
      "Removing 4 sections...\n",
      "All sections removed.\n",
      "0\n",
      "Kirkland Dispo\n",
      "1\n",
      "Kirkland Razor\n",
      "2\n",
      "Schick Blade\n",
      "3\n",
      "Schick Dispo\n",
      "4\n",
      "Schick Razor\n"
     ]
    },
    {
     "name": "stdout",
     "output_type": "stream",
     "text": [
      "Reordered presentation saved as: C:\\Users\\Ali Salem\\Desktop\\SlideAuto-tool\\Innovation CBC\\Innovation CBC Costco reordered output 2025-09-10.pptx\n",
      "Slide reordering complete! All formatting preserved.\n"
     ]
    }
   ],
   "source": [
    "summary_slide_count = max(duplication)\n",
    "ranking_slide_count = max(duplication)\n",
    "potential_slide_count = max(duplication) \n",
    "sourcing_slide_count = max(duplication)\n",
    "\n",
    "print(f\"Slide counts - Summary: {summary_slide_count}, Ranking: {ranking_slide_count}, Potential: {potential_slide_count}, Sourcing: {sourcing_slide_count}\")\n",
    "\n",
    "\n",
    "app = win32.Dispatch(\"PowerPoint.Application\")\n",
    "presentation = app.Presentations.Open(outputPath)\n",
    "\n",
    "new_order = []\n",
    "max_slides_per_section = max(summary_slide_count,ranking_slide_count, potential_slide_count, sourcing_slide_count)\n",
    "for round_num in range(max_slides_per_section):\n",
    "    if round_num < summary_slide_count:\n",
    "        summary_slide_index =  round_num +1\n",
    "        new_order.append(summary_slide_index)\n",
    "    if round_num < ranking_slide_count:\n",
    "        ranking_slide_index = round_num +1  + summary_slide_count \n",
    "        new_order.append(ranking_slide_index)\n",
    "        \n",
    "    if round_num < potential_slide_count:\n",
    "        potential_slide_index = ranking_slide_count + summary_slide_count + round_num  +1\n",
    "        new_order.append(potential_slide_index)\n",
    "        \n",
    "    if round_num < sourcing_slide_count:\n",
    "        sourcing_slide_index = ranking_slide_count + potential_slide_count + summary_slide_count + round_num +1\n",
    "        new_order.append(sourcing_slide_index)\n",
    "\n",
    "print(f\"New slide order (1-based): {new_order}\")\n",
    "def reorder_slides_in_place(presentation, new_order):\n",
    "    total_slides = presentation.Slides.Count\n",
    "    \n",
    "    slides_temp = []\n",
    "    \n",
    "    for slide_index in new_order:\n",
    "        if slide_index <= total_slides:\n",
    "            original_slide = presentation.Slides(slide_index)\n",
    "            original_slide.Copy()\n",
    "            time.sleep(0.5) \n",
    "            new_slide = presentation.Slides.Paste(presentation.Slides.Count + 1)\n",
    "            slides_temp.append(new_slide)\n",
    "    \n",
    "    for i in range(total_slides, 0, -1):\n",
    "        presentation.Slides(i).Delete()\n",
    "    \n",
    "    print(f\"Reordered {len(slides_temp)} slides successfully\")\n",
    "    return presentation\n",
    "\n",
    "# Reorder the slides\n",
    "presentation = reorder_slides_in_place(presentation, new_order)\n",
    "\n",
    "reordered_outputPath = os.getcwd() + \"\\\\Innovation CBC \"+market+\" reordered output \"+today+\".pptx\"\n",
    "def remove_all_sections(presentation):\n",
    "    try:\n",
    "        section_count = presentation.SectionProperties.Count\n",
    "        print(f\"Removing {section_count} sections...\")\n",
    "        for i in range(section_count, 0, -1):\n",
    "            presentation.SectionProperties.Delete(i, False)  # False = keep slides\n",
    "        print(\"All sections removed.\")\n",
    "        return presentation\n",
    "    except Exception as e:\n",
    "        print(f\"Error removing sections: {e}\")\n",
    "\n",
    "presentation = remove_all_sections(presentation)\n",
    "\n",
    "# Add Section names\n",
    "for i, key in enumerate(dfDicSplit):\n",
    "    print(i)\n",
    "    print(key)\n",
    "    presentation.SectionProperties.AddBeforeSlide(i*4+1,key)\n",
    "\n",
    "presentation.SaveAs(reordered_outputPath)\n",
    "\n",
    "\n",
    "print(f\"Reordered presentation saved as: {reordered_outputPath}\")\n",
    "print(\"Slide reordering complete! All formatting preserved.\")"
   ]
  },
  {
   "cell_type": "code",
   "execution_count": null,
   "metadata": {},
   "outputs": [],
   "source": []
  }
 ],
 "metadata": {
  "kernelspec": {
   "display_name": "Python 3",
   "language": "python",
   "name": "python3"
  },
  "language_info": {
   "codemirror_mode": {
    "name": "ipython",
    "version": 3
   },
   "file_extension": ".py",
   "mimetype": "text/x-python",
   "name": "python",
   "nbconvert_exporter": "python",
   "pygments_lexer": "ipython3",
   "version": "3.13.1"
  }
 },
 "nbformat": 4,
 "nbformat_minor": 2
}
